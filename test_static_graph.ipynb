{
 "cells": [
  {
   "cell_type": "code",
   "execution_count": 1,
   "metadata": {},
   "outputs": [
    {
     "name": "stderr",
     "output_type": "stream",
     "text": [
      "/home/ding/anaconda3/envs/comp579/lib/python3.7/site-packages/tqdm/auto.py:22: TqdmWarning: IProgress not found. Please update jupyter and ipywidgets. See https://ipywidgets.readthedocs.io/en/stable/user_install.html\n",
      "  from .autonotebook import tqdm as notebook_tqdm\n"
     ]
    }
   ],
   "source": [
    "from dataloaders import gather_static_graphs\n",
    "import dgl\n",
    "from dgl.data import DGLDataset\n",
    "import torch\n",
    "import os\n",
    "from torch_geometric.nn import GCNConv\n",
    "import pandas as pd\n",
    "import numpy as np"
   ]
  },
  {
   "cell_type": "code",
   "execution_count": 2,
   "metadata": {},
   "outputs": [],
   "source": [
    "import torch.nn as nn\n",
    "from dgl.nn import GraphConv # GCN\n",
    "import torch.nn.functional as F\n",
    "from sklearn import metrics\n",
    "import torch.nn as nn\n",
    "import torch.optim\n",
    "# from pytorch_lightning import LightningModule\n",
    "from torch.nn import Sequential, Linear, Sigmoid\n",
    "from torch.nn import functional as F\n",
    "from torch_scatter import scatter_add\n",
    "from torch.nn import ReLU\n",
    "\n",
    "from torch_geometric.nn import GCNConv"
   ]
  },
  {
   "cell_type": "code",
   "execution_count": 9,
   "metadata": {},
   "outputs": [
    {
     "name": "stdout",
     "output_type": "stream",
     "text": [
      "Checkpt doesnt exist, making it\n"
     ]
    }
   ],
   "source": [
    "data_file = 'LA_DATA_2018_02_to_2018_06.csv'\n",
    "# node_cols = 'visibility', 'precipitation_depth']\n",
    "node_cols = ['wind_x', 'wind_y', 'temperature', 'pressure', 'ceiling', 'dew', 'precipitation_duration' , 'mean_aod','min_aod','max_aod', 'pm25']                                                 \n",
    "edge_cols = ['wind_x', 'wind_y']\n",
    "dist_thresh = 30e6\n",
    "use_self_loops = True\n",
    "multi_edge_feature = False\n",
    "\n",
    "graph_states_loader, graph =  gather_static_graphs(data_file,\n",
    "                                                    edge_cols,\n",
    "                                                    node_cols, \n",
    "                                                    dist_thresh,\n",
    "                                                    multi_edge_feature,\n",
    "                                                    use_self_loops)\n"
   ]
  },
  {
   "cell_type": "code",
   "execution_count": 10,
   "metadata": {},
   "outputs": [],
   "source": [
    "for i, (nf, ef, l) in enumerate(graph_states_loader): \n",
    "    if i ==1: \n",
    "        labels = l\n",
    "    if i ==1: \n",
    "        node_features = nf\n",
    "        edge_features = ef\n",
    "    "
   ]
  },
  {
   "cell_type": "code",
   "execution_count": 11,
   "metadata": {},
   "outputs": [],
   "source": [
    "class MaskedGraphDataset(DGLDataset):\n",
    "    def __init__(self, \n",
    "                node_features,\n",
    "                edge_features,\n",
    "                labels, \n",
    "                graph, \n",
    "                train_test_split = 0.9):\n",
    "\n",
    "        self.node_features = node_features.squeeze()\n",
    "        self.edge_features = edge_features.squeeze()\n",
    "        self.labels = labels.squeeze()\n",
    "        self.edge_src, self.edge_dst = graph.edge_index\n",
    "        self.train_test_split = train_test_split\n",
    "        super().__init__(name = 'MaskedPollutionGraph')\n",
    "\n",
    "    def process(self):\n",
    "\n",
    "        self.edge_src = torch.tensor(self.edge_src)\n",
    "        self.edge_dst = torch.tensor(self.edge_dst)\n",
    "\n",
    "        n_nodes = self.node_features.shape[0]\n",
    "\n",
    "        self.graph = dgl.graph((self.edge_src, self.edge_dst), num_nodes=n_nodes)\n",
    "        self.graph.ndata['feat'] = self.node_features.float()\n",
    "        self.graph.ndata['label'] = self.labels.float()\n",
    "        self.graph.edata['weight'] = self.edge_features.float()\n",
    "\n",
    "        n_train = int(n_nodes * self.train_test_split)\n",
    "        n_val = n_nodes - n_train\n",
    "        train_mask = torch.zeros(n_nodes, dtype=torch.bool)\n",
    "        val_mask = torch.zeros(n_nodes, dtype=torch.bool)\n",
    "\n",
    "        train_mask[:n_train] = True\n",
    "        val_mask[n_train:] = True\n",
    "\n",
    "        self.graph.ndata['train_mask'] = train_mask\n",
    "        self.graph.ndata['val_mask'] = val_mask\n",
    "\n",
    "        mask = self.graph.ndata['train_mask']\n",
    "        masked_idx = torch.argwhere(~mask).flatten()\n",
    "        training_masked_dst = self.edge_src[self.edge_src != masked_idx]\n",
    "        training_masked_src = self.edge_dst[self.edge_dst != masked_idx]\n",
    "        self.edge_index = torch.LongTensor(torch.stack([self.edge_src, self.edge_dst]))\n",
    "        self.training_masked_edge_index = torch.LongTensor(torch.stack([training_masked_src, training_masked_dst]))\n",
    "\n",
    "    def __getitem__(self, i):\n",
    "        return self.graph\n",
    "\n",
    "    def __len__(self):\n",
    "        return 1"
   ]
  },
  {
   "cell_type": "code",
   "execution_count": 12,
   "metadata": {},
   "outputs": [],
   "source": [
    "class GCN(nn.Module):\n",
    "    def __init__(self, input_dim, dropout = 0.3):\n",
    "        super(GCN, self).__init__()\n",
    "        self.h1 = 16\n",
    "        self.h2 = 10\n",
    "        self.conv1 = GraphConv(input_dim, self.h1)\n",
    "        self.conv2 = GraphConv(self.h1, self.h2)\n",
    "        self.conv3 = GraphConv(self.h2, 1)\n",
    "        self.dropout = nn.Dropout(dropout)\n",
    "\n",
    "    def forward(self, g, x):\n",
    "        x = self.conv1(g, x)\n",
    "        x = F.elu(x)\n",
    "        x = self.dropout(x)\n",
    "        x = self.conv2(g, x)\n",
    "        x = F.elu(x)\n",
    "        x = self.dropout(x)\n",
    "        x = self.conv3(g, x)\n",
    "        return x\n",
    "\n",
    "\n",
    "class EdgeGNN(nn.Module):\n",
    "    def __init__(self, in_dim, dropout):\n",
    "        super(EdgeGNN, self).__init__()\n",
    "\n",
    "        e_h = 16\n",
    "        e_out = 16\n",
    "        n_out = 1\n",
    "        e_h2 = 16\n",
    "        n_h = 12\n",
    "\n",
    "        self.edge_mlp = Sequential(Linear(in_dim, e_h),\n",
    "                                   nn.Dropout(dropout),                                   \n",
    "                                   ReLU(),\n",
    "                                   Linear(e_h, e_h2),\n",
    "                                   nn.Dropout(dropout),                                  \n",
    "                                   ReLU(),\n",
    "                                   Linear(e_h2, e_out),\n",
    "                                   Sigmoid(),\n",
    "                                   )\n",
    "        self.node_mlp = Sequential(Linear(e_out, n_h),\n",
    "                                   nn.Dropout(dropout),       \n",
    "                                   ReLU(),\n",
    "                                   Linear(n_h, n_out),\n",
    "                                   Sigmoid(),\n",
    "                                   )\n",
    "\n",
    "    def forward(self, edge_index,  node_features, edge_features):\n",
    "        \"\"\"\n",
    "        x = (node_features, edge_features)\n",
    "        \"\"\"\n",
    "        edge_src, edge_target = edge_index\n",
    "        node_src = node_features[:, edge_src]\n",
    "        node_target = node_features[:, edge_target]\n",
    "\n",
    "        out = torch.cat([node_src, node_target, edge_features.unsqueeze(-1)], dim=-1).float()\n",
    "\n",
    "        out = self.edge_mlp(out)\n",
    "        out_add = scatter_add(out, edge_target, dim=1, dim_size=node_features.size(1))\n",
    "        out_sub = scatter_add(out.neg(), edge_src, dim=1, dim_size=node_features.size(1))  # For higher version of PyG.\n",
    "\n",
    "        out = out_add + out_sub\n",
    "        out = self.node_mlp(out)\n",
    "        return out"
   ]
  },
  {
   "cell_type": "code",
   "execution_count": 13,
   "metadata": {},
   "outputs": [],
   "source": [
    "def train_on_graph(graph_dataset,\n",
    "                   model,\n",
    "                   device,\n",
    "                   epochs, \n",
    "                   criterion, \n",
    "                   log = True, \n",
    "                   ):\n",
    "\n",
    "    graph = graph_dataset[0]\n",
    "    g = graph.to(device)\n",
    "\n",
    "    edge_idx = graph_dataset.edge_index\n",
    "\n",
    "    node_features = g.ndata['feat']\n",
    "    labels = g.ndata['label']\n",
    "    train_mask = g.ndata['train_mask']\n",
    "    val_mask = g.ndata['val_mask']\n",
    "    edge_features = g.edata['weight']\n",
    "    train_mask, val_mask = train_mask.squeeze(), val_mask.squeeze()\n",
    "    \n",
    "    model = model.to(device)\n",
    "\n",
    "    optimizer = torch.optim.Adam(model.parameters(), lr=5e-3, weight_decay=5e-4)\n",
    "\n",
    "    train_losses, val_losses = [], []\n",
    "    train_errors, val_errors = [], []\n",
    "\n",
    "    for epoch in range(epochs):\n",
    "    \n",
    "        model.train()\n",
    "        if isinstance(model, EdgeGNN):\n",
    "            output = model(edge_idx, node_features.unsqueeze(0), edge_features.unsqueeze(0))\n",
    "        elif isinstance(model, GCN):\n",
    "            output = model(g, node_features) \n",
    "            \n",
    "        output, train_labels = output.squeeze(), labels.squeeze()\n",
    "        output, train_labels = output[train_mask], train_labels[train_mask]\n",
    "        loss = criterion(output, train_labels) # use only training nodes for the loss\n",
    "\n",
    "        train_percent_error = torch.abs(output - train_labels) / train_labels\n",
    "        train_errors.append(np.mean(train_percent_error.detach().numpy()))\n",
    "\n",
    "\n",
    "        optimizer.zero_grad()\n",
    "        loss.backward()\n",
    "        optimizer.step()\n",
    "        train_loss = loss.item()\n",
    "        train_losses.append(train_loss)\n",
    "        \n",
    "        model.eval()\n",
    "        with torch.no_grad():\n",
    "            if isinstance(model, EdgeGNN):\n",
    "                output = model(edge_idx, node_features.unsqueeze(0), edge_features.unsqueeze(0))\n",
    "            elif isinstance(model, GCN):\n",
    "                output = model(g, node_features) \n",
    "            output, labels = output.squeeze(), labels.squeeze()\n",
    "            output = output[val_mask]\n",
    "            val_labels = labels[val_mask]\n",
    "        val_loss = criterion(output, val_labels)\n",
    "        val_loss = val_loss.item()\n",
    "        val_losses.append(val_loss)\n",
    "\n",
    "        val_percent_error = torch.abs(output - val_labels) / val_labels\n",
    "        val_errors.append(np.mean(val_percent_error.detach().numpy()))\n",
    "\n",
    "\n",
    "        if log: \n",
    "            if epoch % 10 == 0: \n",
    "                print(f'Epoch: {epoch+1} | Train loss: {train_loss} | Val Loss: {val_loss}')\n",
    "\n",
    "    \n",
    "    return train_losses,  val_losses, train_errors, val_errors\n",
    "\n",
    "        \n",
    "       \n",
    "        "
   ]
  },
  {
   "cell_type": "code",
   "execution_count": 14,
   "metadata": {},
   "outputs": [
    {
     "name": "stdout",
     "output_type": "stream",
     "text": [
      "Epoch: 1 | Train loss: 24.37751579284668 | Val Loss: 40.6365966796875\n",
      "Epoch: 11 | Train loss: 14.76783561706543 | Val Loss: 32.55142593383789\n",
      "Epoch: 21 | Train loss: 10.656455039978027 | Val Loss: 22.889389038085938\n",
      "Epoch: 31 | Train loss: 10.398857116699219 | Val Loss: 15.694690704345703\n"
     ]
    }
   ],
   "source": [
    "graph_dataset = MaskedGraphDataset(node_features, edge_features, labels, graph) # custom graph class\n",
    "G = graph_dataset[0]\n",
    "\n",
    "input_dim = G.ndata['feat'].shape[1]\n",
    "hidden_dim = 8\n",
    "output_dim = 1\n",
    "criterion = nn.L1Loss()\n",
    "\n",
    "\n",
    "\n",
    "# model = GCN(input_dim, hidden_dim, output_dim)\n",
    "model = GCN(input_dim, dropout = 0.3)\n",
    "\n",
    "\n",
    "# input_dim = 23\n",
    "# model = EdgeGNN(input_dim, dropout = 0.2)\n",
    "\n",
    "train_losses,  val_losses, train_errors, val_errors = train_on_graph(graph_dataset, model, 'cpu', 100, criterion, log = False)\n",
    "\n",
    "best_epochs = np.argmin(val_losses)\n",
    "\n",
    "model = GCN(input_dim, dropout = 0.3)\n",
    "train_losses,  val_losses, train_errors, val_errors = train_on_graph(graph_dataset, model, 'cpu', best_epochs, criterion)\n"
   ]
  },
  {
   "cell_type": "code",
   "execution_count": 15,
   "metadata": {},
   "outputs": [
    {
     "data": {
      "text/plain": [
       "32"
      ]
     },
     "execution_count": 15,
     "metadata": {},
     "output_type": "execute_result"
    }
   ],
   "source": [
    "np.argmin(val_losses)"
   ]
  },
  {
   "cell_type": "code",
   "execution_count": 16,
   "metadata": {},
   "outputs": [
    {
     "data": {
      "text/plain": [
       "<matplotlib.legend.Legend at 0x7f2c30f89810>"
      ]
     },
     "execution_count": 16,
     "metadata": {},
     "output_type": "execute_result"
    },
    {
     "data": {
      "image/png": "[encoded data removed]",
      "text/plain": [
       "<Figure size 432x288 with 1 Axes>"
      ]
     },
     "metadata": {
      "needs_background": "light"
     },
     "output_type": "display_data"
    }
   ],
   "source": [
    "import matplotlib.pyplot as plt\n",
    "plt.plot(train_losses, label = 'train')\n",
    "plt.plot(val_losses, label = 'val')\n",
    "plt.legend()"
   ]
  },
  {
   "cell_type": "code",
   "execution_count": 17,
   "metadata": {},
   "outputs": [
    {
     "data": {
      "text/plain": [
       "<matplotlib.legend.Legend at 0x7f2c31059290>"
      ]
     },
     "execution_count": 17,
     "metadata": {},
     "output_type": "execute_result"
    },
    {
     "data": {
      "image/png": "[encoded data removed]",
      "text/plain": [
       "<Figure size 432x288 with 1 Axes>"
      ]
     },
     "metadata": {
      "needs_background": "light"
     },
     "output_type": "display_data"
    }
   ],
   "source": [
    "\n",
    "import matplotlib.pyplot as plt\n",
    "plt.plot(train_errors, label = 'train')\n",
    "plt.plot(val_errors, label = 'val')\n",
    "plt.legend()"
   ]
  },
  {
   "cell_type": "code",
   "execution_count": 18,
   "metadata": {},
   "outputs": [
    {
     "name": "stderr",
     "output_type": "stream",
     "text": [
      "/home/ding/anaconda3/envs/comp579/lib/python3.7/site-packages/IPython/core/interactiveshell.py:3457: DtypeWarning: Columns (7) have mixed types.Specify dtype option on import or set low_memory=False.\n",
      "  exec(code_obj, self.user_global_ns, self.user_ns)\n"
     ]
    }
   ],
   "source": [
    "unlabelled = pd.read_csv('data/la_train_grid_with_weather.csv')"
   ]
  },
  {
   "cell_type": "code",
   "execution_count": 19,
   "metadata": {},
   "outputs": [],
   "source": [
    "from pathlib import Path\n",
    "\n",
    "files = list(Path(\"data/unlabelled\").glob(\"*.csv\"))"
   ]
  },
  {
   "cell_type": "code",
   "execution_count": 20,
   "metadata": {},
   "outputs": [
    {
     "name": "stdout",
     "output_type": "stream",
     "text": [
      "Checkpt doesnt exist, making it\n"
     ]
    },
    {
     "name": "stderr",
     "output_type": "stream",
     "text": [
      "/home/ding/ECSE552_Project/graph.py:51: RuntimeWarning: invalid value encountered in double_scalars\n",
      "  c = 2 * np.arctan2(a**0.5, (1-a)**0.5)\n"
     ]
    },
    {
     "ename": "MemoryError",
     "evalue": "Unable to allocate 384. GiB for an array with shape (227052, 227052) and data type float64",
     "output_type": "error",
     "traceback": [
      "\u001b[0;31m---------------------------------------------------------------------------\u001b[0m",
      "\u001b[0;31mMemoryError\u001b[0m                               Traceback (most recent call last)",
      "\u001b[0;32m/tmp/ipykernel_14595/678865596.py\u001b[0m in \u001b[0;36m<module>\u001b[0;34m\u001b[0m\n\u001b[1;32m     16\u001b[0m                                                     \u001b[0mmulti_edge_feature\u001b[0m\u001b[0;34m,\u001b[0m\u001b[0;34m\u001b[0m\u001b[0;34m\u001b[0m\u001b[0m\n\u001b[1;32m     17\u001b[0m                                                     \u001b[0muse_self_loops\u001b[0m\u001b[0;34m,\u001b[0m\u001b[0;34m\u001b[0m\u001b[0;34m\u001b[0m\u001b[0m\n\u001b[0;32m---> 18\u001b[0;31m                                                     pseudo_data = True)\n\u001b[0m",
      "\u001b[0;32m~/ECSE552_Project/dataloaders.py\u001b[0m in \u001b[0;36mgather_static_graphs\u001b[0;34m(data_file, edge_cols, node_cols, dist_thresh, multi_edge_feature, use_self_loops, pseudo_data, save)\u001b[0m\n\u001b[1;32m    163\u001b[0m                                           \u001b[0mmulti_edge_feature\u001b[0m\u001b[0;34m,\u001b[0m\u001b[0;34m\u001b[0m\u001b[0;34m\u001b[0m\u001b[0m\n\u001b[1;32m    164\u001b[0m                                           \u001b[0muse_self_loops\u001b[0m\u001b[0;34m,\u001b[0m\u001b[0;34m\u001b[0m\u001b[0;34m\u001b[0m\u001b[0m\n\u001b[0;32m--> 165\u001b[0;31m                                           pseudo_data, save)\n\u001b[0m\u001b[1;32m    166\u001b[0m \u001b[0;34m\u001b[0m\u001b[0m\n\u001b[1;32m    167\u001b[0m     \u001b[0mgraph_edge_features\u001b[0m\u001b[0;34m,\u001b[0m \u001b[0mgraph_node_features\u001b[0m\u001b[0;34m,\u001b[0m \u001b[0mgraph_labels\u001b[0m \u001b[0;34m=\u001b[0m \u001b[0mgraph_data\u001b[0m\u001b[0;34m\u001b[0m\u001b[0;34m\u001b[0m\u001b[0m\n",
      "\u001b[0;32m~/ECSE552_Project/utils/data_utils.py\u001b[0m in \u001b[0;36mgather_graph_data\u001b[0;34m(weather_file, edge_cols, node_cols, dist_thresh, multi_edge_feature, use_self_loops, pseudo_data, save)\u001b[0m\n\u001b[1;32m    124\u001b[0m                   \u001b[0mdist_thresh\u001b[0m\u001b[0;34m,\u001b[0m\u001b[0;34m\u001b[0m\u001b[0;34m\u001b[0m\u001b[0m\n\u001b[1;32m    125\u001b[0m                   \u001b[0mmulti_edge_feature\u001b[0m\u001b[0;34m,\u001b[0m\u001b[0;34m\u001b[0m\u001b[0;34m\u001b[0m\u001b[0m\n\u001b[0;32m--> 126\u001b[0;31m                   use_self_loops)\n\u001b[0m\u001b[1;32m    127\u001b[0m     \u001b[0mgraph_edge_features\u001b[0m \u001b[0;34m=\u001b[0m \u001b[0mgraph\u001b[0m\u001b[0;34m.\u001b[0m\u001b[0medge_attr\u001b[0m\u001b[0;34m\u001b[0m\u001b[0;34m\u001b[0m\u001b[0m\n\u001b[1;32m    128\u001b[0m     \u001b[0mgraph_data\u001b[0m \u001b[0;34m=\u001b[0m \u001b[0mgraph_edge_features\u001b[0m\u001b[0;34m,\u001b[0m \u001b[0mgraph_node_features\u001b[0m\u001b[0;34m,\u001b[0m \u001b[0mgraph_labels\u001b[0m\u001b[0;34m\u001b[0m\u001b[0;34m\u001b[0m\u001b[0m\n",
      "\u001b[0;32m~/ECSE552_Project/graph.py\u001b[0m in \u001b[0;36m__init__\u001b[0;34m(self, graph_metadata, edge_data, distance_threshold, multi_edge_feature, use_self_loops)\u001b[0m\n\u001b[1;32m    130\u001b[0m         \u001b[0mself\u001b[0m\u001b[0;34m.\u001b[0m\u001b[0medge_index\u001b[0m\u001b[0;34m,\u001b[0m \u001b[0mself\u001b[0m\u001b[0;34m.\u001b[0m\u001b[0medge_attr\u001b[0m \u001b[0;34m=\u001b[0m \u001b[0mself\u001b[0m\u001b[0;34m.\u001b[0m\u001b[0mgenerate_edges\u001b[0m\u001b[0;34m(\u001b[0m\u001b[0;34m)\u001b[0m\u001b[0;34m\u001b[0m\u001b[0;34m\u001b[0m\u001b[0m\n\u001b[1;32m    131\u001b[0m         \u001b[0mself\u001b[0m\u001b[0;34m.\u001b[0m\u001b[0madjacency_matrix\u001b[0m \u001b[0;34m=\u001b[0m \u001b[0mself\u001b[0m\u001b[0;34m.\u001b[0m\u001b[0mget_adjacency_matrix\u001b[0m\u001b[0;34m(\u001b[0m\u001b[0;34m)\u001b[0m\u001b[0;34m\u001b[0m\u001b[0;34m\u001b[0m\u001b[0m\n\u001b[0;32m--> 132\u001b[0;31m         \u001b[0mself\u001b[0m\u001b[0;34m.\u001b[0m\u001b[0medge_adjacency\u001b[0m \u001b[0;34m=\u001b[0m \u001b[0mself\u001b[0m\u001b[0;34m.\u001b[0m\u001b[0mget_edge_adjacency\u001b[0m\u001b[0;34m(\u001b[0m\u001b[0;34m)\u001b[0m\u001b[0;34m\u001b[0m\u001b[0;34m\u001b[0m\u001b[0m\n\u001b[0m\u001b[1;32m    133\u001b[0m         \u001b[0mself\u001b[0m\u001b[0;34m.\u001b[0m\u001b[0mtransformation_matrix\u001b[0m \u001b[0;34m=\u001b[0m \u001b[0mself\u001b[0m\u001b[0;34m.\u001b[0m\u001b[0mget_transformation_matrix\u001b[0m\u001b[0;34m(\u001b[0m\u001b[0;34m)\u001b[0m\u001b[0;34m\u001b[0m\u001b[0;34m\u001b[0m\u001b[0m\n\u001b[1;32m    134\u001b[0m \u001b[0;34m\u001b[0m\u001b[0m\n",
      "\u001b[0;32m~/ECSE552_Project/graph.py\u001b[0m in \u001b[0;36mget_edge_adjacency\u001b[0;34m(self)\u001b[0m\n\u001b[1;32m    243\u001b[0m                                           \u001b[0;34m=\u001b[0m \u001b[0;36m0\u001b[0m \u001b[0motherwise\u001b[0m\u001b[0;34m\u001b[0m\u001b[0;34m\u001b[0m\u001b[0m\n\u001b[1;32m    244\u001b[0m         '''\n\u001b[0;32m--> 245\u001b[0;31m         \u001b[0madj_e\u001b[0m \u001b[0;34m=\u001b[0m \u001b[0mnp\u001b[0m\u001b[0;34m.\u001b[0m\u001b[0mzeros\u001b[0m\u001b[0;34m(\u001b[0m\u001b[0;34m[\u001b[0m\u001b[0mself\u001b[0m\u001b[0;34m.\u001b[0m\u001b[0medge_index\u001b[0m\u001b[0;34m.\u001b[0m\u001b[0mshape\u001b[0m\u001b[0;34m[\u001b[0m\u001b[0;36m1\u001b[0m\u001b[0;34m]\u001b[0m\u001b[0;34m,\u001b[0m\u001b[0mself\u001b[0m\u001b[0;34m.\u001b[0m\u001b[0medge_index\u001b[0m\u001b[0;34m.\u001b[0m\u001b[0mshape\u001b[0m\u001b[0;34m[\u001b[0m\u001b[0;36m1\u001b[0m\u001b[0;34m]\u001b[0m\u001b[0;34m]\u001b[0m\u001b[0;34m)\u001b[0m\u001b[0;34m\u001b[0m\u001b[0;34m\u001b[0m\u001b[0m\n\u001b[0m\u001b[1;32m    246\u001b[0m         \u001b[0;32mfor\u001b[0m \u001b[0mi\u001b[0m\u001b[0;34m,\u001b[0m\u001b[0ms\u001b[0m \u001b[0;32min\u001b[0m \u001b[0menumerate\u001b[0m\u001b[0;34m(\u001b[0m\u001b[0mself\u001b[0m\u001b[0;34m.\u001b[0m\u001b[0medge_index\u001b[0m\u001b[0;34m[\u001b[0m\u001b[0;36m0\u001b[0m\u001b[0;34m]\u001b[0m\u001b[0;34m)\u001b[0m\u001b[0;34m:\u001b[0m\u001b[0;34m\u001b[0m\u001b[0;34m\u001b[0m\u001b[0m\n\u001b[1;32m    247\u001b[0m             \u001b[0mt\u001b[0m \u001b[0;34m=\u001b[0m \u001b[0mself\u001b[0m\u001b[0;34m.\u001b[0m\u001b[0medge_index\u001b[0m\u001b[0;34m[\u001b[0m\u001b[0;36m1\u001b[0m\u001b[0;34m]\u001b[0m\u001b[0;34m[\u001b[0m\u001b[0mi\u001b[0m\u001b[0;34m]\u001b[0m\u001b[0;34m\u001b[0m\u001b[0;34m\u001b[0m\u001b[0m\n",
      "\u001b[0;31mMemoryError\u001b[0m: Unable to allocate 384. GiB for an array with shape (227052, 227052) and data type float64"
     ]
    }
   ],
   "source": [
    "data_file = 'merged_unlabelled_data.csv'\n",
    "# node_cols = 'visibility', 'precipitation_depth']\n",
    "node_cols = ['wind_x', 'wind_y', 'temperature', 'pressure', 'ceiling', 'dew', 'precipitation_duration' , 'mean_aod','min_aod','max_aod', 'pm25']                                                 \n",
    "edge_cols = ['wind_x', 'wind_y']\n",
    "dist_thresh = 30e6\n",
    "use_self_loops = True\n",
    "multi_edge_feature = False\n",
    "\n",
    "# for loop here\n",
    "# split in k\n",
    "\n",
    "graph_states_loader, graph =  gather_static_graphs(files[0],\n",
    "                                                    edge_cols,\n",
    "                                                    node_cols, \n",
    "                                                    dist_thresh,\n",
    "                                                    multi_edge_feature,\n",
    "                                                    use_self_loops, \n",
    "                                                    pseudo_data = True)\n"
   ]
  },
  {
   "cell_type": "code",
   "execution_count": null,
   "metadata": {},
   "outputs": [
    {
     "name": "stdout",
     "output_type": "stream",
     "text": [
      "tensor([[23.0251],\n",
      "        [23.0281],\n",
      "        [23.0249],\n",
      "        [23.0255],\n",
      "        [23.0248],\n",
      "        [23.0254],\n",
      "        [23.0245],\n",
      "        [23.0257],\n",
      "        [23.0252],\n",
      "        [23.0242]])\n"
     ]
    }
   ],
   "source": [
    "for i, (nf, ef, l) in enumerate(graph_states_loader): \n",
    "    if i ==1: \n",
    "        labels = l\n",
    "    if i ==1: \n",
    "        node_features = nf\n",
    "        edge_features = ef\n",
    "    masked_g = MaskedGraphDataset(node_features, edge_features, labels , graph)\n",
    "    G = masked_g[0]\n",
    "    with torch.no_grad():\n",
    "        # DGL\n",
    "        node_features = G.ndata['feat']\n",
    "        pred = model(G,node_features)\n",
    "        \n",
    "        print(pred)\n",
    "    \n",
    "    break\n",
    "    \n",
    "    "
   ]
  },
  {
   "cell_type": "code",
   "execution_count": null,
   "metadata": {},
   "outputs": [
    {
     "ename": "AttributeError",
     "evalue": "'Graph' object has no attribute 'local_scope'",
     "output_type": "error",
     "traceback": [
      "\u001b[0;31m---------------------------------------------------------------------------\u001b[0m",
      "\u001b[0;31mAttributeError\u001b[0m                            Traceback (most recent call last)",
      "\u001b[0;32m/tmp/ipykernel_7507/1668039027.py\u001b[0m in \u001b[0;36m<module>\u001b[0;34m\u001b[0m\n\u001b[1;32m      2\u001b[0m     \u001b[0mmasked_g\u001b[0m \u001b[0;34m=\u001b[0m \u001b[0mMaskedGraphDataset\u001b[0m\u001b[0;34m(\u001b[0m\u001b[0mnode_feat\u001b[0m\u001b[0;34m,\u001b[0m \u001b[0medge_feat\u001b[0m\u001b[0;34m,\u001b[0m \u001b[0mlabel\u001b[0m \u001b[0;34m,\u001b[0m \u001b[0mgraph\u001b[0m\u001b[0;34m)\u001b[0m\u001b[0;34m\u001b[0m\u001b[0;34m\u001b[0m\u001b[0m\n\u001b[1;32m      3\u001b[0m     \u001b[0;32mwith\u001b[0m \u001b[0mtorch\u001b[0m\u001b[0;34m.\u001b[0m\u001b[0mno_grad\u001b[0m\u001b[0;34m(\u001b[0m\u001b[0;34m)\u001b[0m\u001b[0;34m:\u001b[0m\u001b[0;34m\u001b[0m\u001b[0;34m\u001b[0m\u001b[0m\n\u001b[0;32m----> 4\u001b[0;31m         \u001b[0mpred\u001b[0m \u001b[0;34m=\u001b[0m \u001b[0mmodel\u001b[0m\u001b[0;34m(\u001b[0m\u001b[0mgraph\u001b[0m\u001b[0;34m,\u001b[0m\u001b[0mmasked_g\u001b[0m\u001b[0;34m)\u001b[0m\u001b[0;34m\u001b[0m\u001b[0;34m\u001b[0m\u001b[0m\n\u001b[0m\u001b[1;32m      5\u001b[0m         \u001b[0mprint\u001b[0m\u001b[0;34m(\u001b[0m\u001b[0mpred\u001b[0m\u001b[0;34m)\u001b[0m\u001b[0;34m\u001b[0m\u001b[0;34m\u001b[0m\u001b[0m\n\u001b[1;32m      6\u001b[0m         \u001b[0;32mbreak\u001b[0m\u001b[0;34m\u001b[0m\u001b[0;34m\u001b[0m\u001b[0m\n",
      "\u001b[0;32m~/anaconda3/envs/comp579/lib/python3.7/site-packages/torch/nn/modules/module.py\u001b[0m in \u001b[0;36m_call_impl\u001b[0;34m(self, *input, **kwargs)\u001b[0m\n\u001b[1;32m   1108\u001b[0m         if not (self._backward_hooks or self._forward_hooks or self._forward_pre_hooks or _global_backward_hooks\n\u001b[1;32m   1109\u001b[0m                 or _global_forward_hooks or _global_forward_pre_hooks):\n\u001b[0;32m-> 1110\u001b[0;31m             \u001b[0;32mreturn\u001b[0m \u001b[0mforward_call\u001b[0m\u001b[0;34m(\u001b[0m\u001b[0;34m*\u001b[0m\u001b[0minput\u001b[0m\u001b[0;34m,\u001b[0m \u001b[0;34m**\u001b[0m\u001b[0mkwargs\u001b[0m\u001b[0;34m)\u001b[0m\u001b[0;34m\u001b[0m\u001b[0;34m\u001b[0m\u001b[0m\n\u001b[0m\u001b[1;32m   1111\u001b[0m         \u001b[0;31m# Do not call functions when jit is used\u001b[0m\u001b[0;34m\u001b[0m\u001b[0;34m\u001b[0m\u001b[0;34m\u001b[0m\u001b[0m\n\u001b[1;32m   1112\u001b[0m         \u001b[0mfull_backward_hooks\u001b[0m\u001b[0;34m,\u001b[0m \u001b[0mnon_full_backward_hooks\u001b[0m \u001b[0;34m=\u001b[0m \u001b[0;34m[\u001b[0m\u001b[0;34m]\u001b[0m\u001b[0;34m,\u001b[0m \u001b[0;34m[\u001b[0m\u001b[0;34m]\u001b[0m\u001b[0;34m\u001b[0m\u001b[0;34m\u001b[0m\u001b[0m\n",
      "\u001b[0;32m/tmp/ipykernel_7507/3966693776.py\u001b[0m in \u001b[0;36mforward\u001b[0;34m(self, g, x)\u001b[0m\n\u001b[1;32m     10\u001b[0m \u001b[0;34m\u001b[0m\u001b[0m\n\u001b[1;32m     11\u001b[0m     \u001b[0;32mdef\u001b[0m \u001b[0mforward\u001b[0m\u001b[0;34m(\u001b[0m\u001b[0mself\u001b[0m\u001b[0;34m,\u001b[0m \u001b[0mg\u001b[0m\u001b[0;34m,\u001b[0m \u001b[0mx\u001b[0m\u001b[0;34m)\u001b[0m\u001b[0;34m:\u001b[0m\u001b[0;34m\u001b[0m\u001b[0;34m\u001b[0m\u001b[0m\n\u001b[0;32m---> 12\u001b[0;31m         \u001b[0mx\u001b[0m \u001b[0;34m=\u001b[0m \u001b[0mself\u001b[0m\u001b[0;34m.\u001b[0m\u001b[0mconv1\u001b[0m\u001b[0;34m(\u001b[0m\u001b[0mg\u001b[0m\u001b[0;34m,\u001b[0m \u001b[0mx\u001b[0m\u001b[0;34m)\u001b[0m\u001b[0;34m\u001b[0m\u001b[0;34m\u001b[0m\u001b[0m\n\u001b[0m\u001b[1;32m     13\u001b[0m         \u001b[0mx\u001b[0m \u001b[0;34m=\u001b[0m \u001b[0mF\u001b[0m\u001b[0;34m.\u001b[0m\u001b[0melu\u001b[0m\u001b[0;34m(\u001b[0m\u001b[0mx\u001b[0m\u001b[0;34m)\u001b[0m\u001b[0;34m\u001b[0m\u001b[0;34m\u001b[0m\u001b[0m\n\u001b[1;32m     14\u001b[0m         \u001b[0mx\u001b[0m \u001b[0;34m=\u001b[0m \u001b[0mself\u001b[0m\u001b[0;34m.\u001b[0m\u001b[0mdropout\u001b[0m\u001b[0;34m(\u001b[0m\u001b[0mx\u001b[0m\u001b[0;34m)\u001b[0m\u001b[0;34m\u001b[0m\u001b[0;34m\u001b[0m\u001b[0m\n",
      "\u001b[0;32m~/anaconda3/envs/comp579/lib/python3.7/site-packages/torch/nn/modules/module.py\u001b[0m in \u001b[0;36m_call_impl\u001b[0;34m(self, *input, **kwargs)\u001b[0m\n\u001b[1;32m   1108\u001b[0m         if not (self._backward_hooks or self._forward_hooks or self._forward_pre_hooks or _global_backward_hooks\n\u001b[1;32m   1109\u001b[0m                 or _global_forward_hooks or _global_forward_pre_hooks):\n\u001b[0;32m-> 1110\u001b[0;31m             \u001b[0;32mreturn\u001b[0m \u001b[0mforward_call\u001b[0m\u001b[0;34m(\u001b[0m\u001b[0;34m*\u001b[0m\u001b[0minput\u001b[0m\u001b[0;34m,\u001b[0m \u001b[0;34m**\u001b[0m\u001b[0mkwargs\u001b[0m\u001b[0;34m)\u001b[0m\u001b[0;34m\u001b[0m\u001b[0;34m\u001b[0m\u001b[0m\n\u001b[0m\u001b[1;32m   1111\u001b[0m         \u001b[0;31m# Do not call functions when jit is used\u001b[0m\u001b[0;34m\u001b[0m\u001b[0;34m\u001b[0m\u001b[0;34m\u001b[0m\u001b[0m\n\u001b[1;32m   1112\u001b[0m         \u001b[0mfull_backward_hooks\u001b[0m\u001b[0;34m,\u001b[0m \u001b[0mnon_full_backward_hooks\u001b[0m \u001b[0;34m=\u001b[0m \u001b[0;34m[\u001b[0m\u001b[0;34m]\u001b[0m\u001b[0;34m,\u001b[0m \u001b[0;34m[\u001b[0m\u001b[0;34m]\u001b[0m\u001b[0;34m\u001b[0m\u001b[0;34m\u001b[0m\u001b[0m\n",
      "\u001b[0;32m~/anaconda3/envs/comp579/lib/python3.7/site-packages/dgl/nn/pytorch/conv/graphconv.py\u001b[0m in \u001b[0;36mforward\u001b[0;34m(self, graph, feat, weight, edge_weight)\u001b[0m\n\u001b[1;32m    378\u001b[0m         \u001b[0;34m*\u001b[0m \u001b[0mWeight\u001b[0m \u001b[0mshape\u001b[0m\u001b[0;34m:\u001b[0m \u001b[0;34m:\u001b[0m\u001b[0mmath\u001b[0m\u001b[0;34m:\u001b[0m\u001b[0;31m`\u001b[0m\u001b[0;34m(\u001b[0m\u001b[0;31m\\\u001b[0m\u001b[0mtext\u001b[0m\u001b[0;34m{\u001b[0m\u001b[0min_feats\u001b[0m\u001b[0;34m}\u001b[0m\u001b[0;34m,\u001b[0m\u001b[0;31m \u001b[0m\u001b[0;31m\\\u001b[0m\u001b[0mtext\u001b[0m\u001b[0;34m{\u001b[0m\u001b[0mout_feats\u001b[0m\u001b[0;34m}\u001b[0m\u001b[0;34m)\u001b[0m\u001b[0;31m`\u001b[0m\u001b[0;34m.\u001b[0m\u001b[0;34m\u001b[0m\u001b[0;34m\u001b[0m\u001b[0m\n\u001b[1;32m    379\u001b[0m         \"\"\"\n\u001b[0;32m--> 380\u001b[0;31m         \u001b[0;32mwith\u001b[0m \u001b[0mgraph\u001b[0m\u001b[0;34m.\u001b[0m\u001b[0mlocal_scope\u001b[0m\u001b[0;34m(\u001b[0m\u001b[0;34m)\u001b[0m\u001b[0;34m:\u001b[0m\u001b[0;34m\u001b[0m\u001b[0;34m\u001b[0m\u001b[0m\n\u001b[0m\u001b[1;32m    381\u001b[0m             \u001b[0;32mif\u001b[0m \u001b[0;32mnot\u001b[0m \u001b[0mself\u001b[0m\u001b[0;34m.\u001b[0m\u001b[0m_allow_zero_in_degree\u001b[0m\u001b[0;34m:\u001b[0m\u001b[0;34m\u001b[0m\u001b[0;34m\u001b[0m\u001b[0m\n\u001b[1;32m    382\u001b[0m                 \u001b[0;32mif\u001b[0m \u001b[0;34m(\u001b[0m\u001b[0mgraph\u001b[0m\u001b[0;34m.\u001b[0m\u001b[0min_degrees\u001b[0m\u001b[0;34m(\u001b[0m\u001b[0;34m)\u001b[0m \u001b[0;34m==\u001b[0m \u001b[0;36m0\u001b[0m\u001b[0;34m)\u001b[0m\u001b[0;34m.\u001b[0m\u001b[0many\u001b[0m\u001b[0;34m(\u001b[0m\u001b[0;34m)\u001b[0m\u001b[0;34m:\u001b[0m\u001b[0;34m\u001b[0m\u001b[0;34m\u001b[0m\u001b[0m\n",
      "\u001b[0;31mAttributeError\u001b[0m: 'Graph' object has no attribute 'local_scope'"
     ]
    }
   ],
   "source": [
    "for node_feat, edge_feat, label in graph_states_loader:\n",
    "    masked_g = MaskedGraphDataset(node_feat, edge_feat, label , graph)\n",
    "    with torch.no_grad():\n",
    "        pred = model(graph,masked_g)\n",
    "        print(pred)\n",
    "        break"
   ]
  },
  {
   "cell_type": "code",
   "execution_count": null,
   "metadata": {},
   "outputs": [
    {
     "data": {
      "text/plain": [
       "'\\n1. Integrate pseudolabels into dataloaders of graph\\n2. Train model\\n3. Infer pseudolabels \\n4. Save results properly\\n5. Integrate results into code\\n'"
      ]
     },
     "execution_count": 17,
     "metadata": {},
     "output_type": "execute_result"
    }
   ],
   "source": [
    "'''\n",
    "1. Integrate pseudolabels into dataloaders of graph\n",
    "2. Train model\n",
    "3. Infer pseudolabels \n",
    "4. Save results properly\n",
    "5. Integrate results into code\n",
    "'''"
   ]
  },
  {
   "cell_type": "code",
   "execution_count": null,
   "metadata": {},
   "outputs": [],
   "source": []
  }
 ],
 "metadata": {
  "interpreter": {
   "hash": "aee8b7b246df8f9039afb4144a1f6fd8d2ca17a180786b69acc140d282b71a49"
  },
  "kernelspec": {
   "display_name": "Python 3.9.1 64-bit",
   "language": "python",
   "name": "python3"
  },
  "language_info": {
   "codemirror_mode": {
    "name": "ipython",
    "version": 3
   },
   "file_extension": ".py",
   "mimetype": "text/x-python",
   "name": "python",
   "nbconvert_exporter": "python",
   "pygments_lexer": "ipython3",
   "version": "3.7.13"
  },
  "orig_nbformat": 4
 },
 "nbformat": 4,
 "nbformat_minor": 2
}
