{
 "cells": [
  {
   "cell_type": "code",
   "execution_count": 1,
   "metadata": {},
   "outputs": [
    {
     "name": "stderr",
     "output_type": "stream",
     "text": [
      "/home/ding/anaconda3/envs/comp579/lib/python3.7/site-packages/tqdm/auto.py:22: TqdmWarning: IProgress not found. Please update jupyter and ipywidgets. See https://ipywidgets.readthedocs.io/en/stable/user_install.html\n",
      "  from .autonotebook import tqdm as notebook_tqdm\n"
     ]
    }
   ],
   "source": [
    "import torch\n",
    "import numpy as np\n",
    "import pandas as pd\n",
    "import os\n",
    "import datetime\n",
    "from datetime import date, timedelta\n",
    "from graph import Graph\n",
    "from utils.data_utils import data_to_numpy"
   ]
  },
  {
   "cell_type": "code",
   "execution_count": 2,
   "metadata": {},
   "outputs": [
    {
     "name": "stderr",
     "output_type": "stream",
     "text": [
      "/home/ding/anaconda3/envs/comp579/lib/python3.7/site-packages/IPython/core/interactiveshell.py:3457: DtypeWarning: Columns (7) have mixed types.Specify dtype option on import or set low_memory=False.\n",
      "  exec(code_obj, self.user_global_ns, self.user_ns)\n"
     ]
    }
   ],
   "source": [
    "unlabelled = pd.read_csv('data/la_train_grid_with_weather.csv')\n",
    "training_data = pd.read_csv('data/LA_DATA_2018_02_to_2018_06.csv')\n"
   ]
  },
  {
   "cell_type": "code",
   "execution_count": 3,
   "metadata": {},
   "outputs": [],
   "source": [
    "def format_unlabeled_dataset(df):\n",
    "    df = df.rename({'day' : 'DATE'}, axis = 1)\n",
    "\n",
    "    cols = ['wind_x', 'wind_y', 'temperature', 'pressure', 'ceiling', 'dew',\n",
    "                 'precipitation_duration' , 'mean_aod','min_aod','max_aod', 'visibility',                                               \n",
    "                 'Latitudes','Longitudes','DATE']\n",
    "\n",
    "    df = df[cols]\n",
    "    return df\n",
    "    "
   ]
  },
  {
   "cell_type": "code",
   "execution_count": 4,
   "metadata": {},
   "outputs": [],
   "source": [
    "unlabelled = format_unlabeled_dataset(unlabelled)"
   ]
  },
  {
   "cell_type": "code",
   "execution_count": 5,
   "metadata": {},
   "outputs": [],
   "source": [
    "# node_cols = 'visibility', 'precipitation_depth']\n",
    "node_cols = ['wind_x', 'wind_y', 'temperature', 'pressure', 'ceiling', 'dew', 'precipitation_duration' , 'mean_aod','min_aod','max_aod', 'pm25']                                                 \n",
    "edge_cols = ['wind_x', 'wind_y']\n",
    "date_range = sorted(training_data['DATE'].unique(), key=lambda x: datetime.datetime.strptime(x, '%Y-%m-%d'))\n",
    "\n",
    "def assign_id(weather_data):\n",
    "    ids = np.zeros(len(weather_data['Latitudes']))\n",
    "    node_pos = list(weather_data.groupby(['Latitudes', 'Longitudes']).groups)\n",
    "    for i, node in enumerate(node_pos):\n",
    "        indices_lats = weather_data['Latitudes'].values == node_pos[i][0]\n",
    "        indices_longs = weather_data['Longitudes'].values == node_pos[i][1]\n",
    "        indices = indices_lats & indices_longs\n",
    "        ids[np.argwhere(indices)] = int(i+1)\n",
    "    weather_data['STATION'] = ids\n",
    "    return weather_data\n",
    "\n",
    "def get_unlabelled_subset(unlabeled_df, dates, node_cols, edge_cols, meta_cols):\n",
    "    cols = list(set(node_cols + edge_cols + meta_cols))\n",
    "    unlabeled_df = unlabeled_df[cols]\n",
    "    unlabeled_df = unlabeled_df[unlabeled_df['DATE'].isin(dates)]\n",
    "    unlabeled_df = assign_id(unlabeled_df)\n",
    "    unlabeled_df['pm25'] = [np.nan for _ in range(len(unlabeled_df))]\n",
    "    return unlabeled_df\n",
    "\n",
    "\n",
    "\n",
    "\n",
    "\n",
    "\n",
    "# graph_node_features, graph_edge_features, graph_labels"
   ]
  },
  {
   "cell_type": "code",
   "execution_count": 6,
   "metadata": {},
   "outputs": [],
   "source": [
    "node_cols = ['wind_x', 'wind_y', 'temperature', 'pressure', 'ceiling', 'dew', 'precipitation_duration' , 'mean_aod','min_aod','max_aod']                                                 \n",
    "edge_cols = ['wind_x', 'wind_y']\n",
    "meta_cols = ['DATE', 'Latitudes', 'Longitudes']\n",
    "date_range = sorted(training_data['DATE'].unique(), key=lambda x: datetime.datetime.strptime(x, '%Y-%m-%d'))\n",
    "\n",
    "unlabeled_df = get_unlabelled_subset(unlabelled, date_range,  node_cols, edge_cols, meta_cols)"
   ]
  },
  {
   "cell_type": "code",
   "execution_count": 7,
   "metadata": {},
   "outputs": [],
   "source": [
    "dataset = unlabeled_df.append(training_data, ignore_index=True)"
   ]
  },
  {
   "cell_type": "code",
   "execution_count": 8,
   "metadata": {},
   "outputs": [],
   "source": [
    "\n",
    "date_range = sorted(dataset['DATE'].unique(), key=lambda x: datetime.datetime.strptime(x, '%Y-%m-%d'))"
   ]
  },
  {
   "cell_type": "code",
   "execution_count": 12,
   "metadata": {},
   "outputs": [
    {
     "data": {
      "text/plain": [
       "108"
      ]
     },
     "execution_count": 12,
     "metadata": {},
     "output_type": "execute_result"
    }
   ],
   "source": [
    "#rethink : CAN I PUT IT DIRECTELY INTO A DGN GRAPH\n",
    "len(date_range)\n"
   ]
  },
  {
   "cell_type": "code",
   "execution_count": 18,
   "metadata": {},
   "outputs": [],
   "source": [
    "for i in date_range:\n",
    "    d = dataset[dataset['DATE'] == i]\n",
    "    d.to_csv(f\"data/unlabelled/{i}.csv\", index=False)"
   ]
  },
  {
   "cell_type": "code",
   "execution_count": 14,
   "metadata": {},
   "outputs": [
    {
     "data": {
      "text/plain": [
       "Index(['dew', 'DATE', 'pressure', 'wind_x', 'precipitation_duration',\n",
       "       'max_aod', 'temperature', 'wind_y', 'min_aod', 'ceiling', 'Longitudes',\n",
       "       'mean_aod', 'Latitudes', 'STATION', 'pm25', 'Unnamed: 0', 'visibility',\n",
       "       'precipitation_depth'],\n",
       "      dtype='object')"
      ]
     },
     "execution_count": 14,
     "metadata": {},
     "output_type": "execute_result"
    }
   ],
   "source": [
    "dataset.columns"
   ]
  },
  {
   "cell_type": "code",
   "execution_count": null,
   "metadata": {},
   "outputs": [],
   "source": []
  }
 ],
 "metadata": {
  "interpreter": {
   "hash": "aee8b7b246df8f9039afb4144a1f6fd8d2ca17a180786b69acc140d282b71a49"
  },
  "kernelspec": {
   "display_name": "Python 3.9.1 64-bit",
   "language": "python",
   "name": "python3"
  },
  "language_info": {
   "codemirror_mode": {
    "name": "ipython",
    "version": 3
   },
   "file_extension": ".py",
   "mimetype": "text/x-python",
   "name": "python",
   "nbconvert_exporter": "python",
   "pygments_lexer": "ipython3",
   "version": "3.7.13"
  },
  "orig_nbformat": 4
 },
 "nbformat": 4,
 "nbformat_minor": 2
}
