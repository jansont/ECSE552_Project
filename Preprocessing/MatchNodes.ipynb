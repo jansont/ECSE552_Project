{
  "nbformat": 4,
  "nbformat_minor": 0,
  "metadata": {
    "colab": {
      "name": "MatchNodes.ipynb",
      "provenance": []
    },
    "kernelspec": {
      "name": "python3",
      "display_name": "Python 3"
    },
    "language_info": {
      "name": "python"
    }
  },
  "cells": [
    {
      "cell_type": "code",
      "source": [
        "import numpy as np\n",
        "import math\n",
        "import random\n",
        "import uuid "
      ],
      "metadata": {
        "id": "PJaTM-Xx7xuP"
      },
      "execution_count": 24,
      "outputs": []
    },
    {
      "cell_type": "code",
      "execution_count": 72,
      "metadata": {
        "id": "__UzHkOL6abv"
      },
      "outputs": [],
      "source": [
        "class Node: \n",
        "    def __init__(self, id, latitude, longitude): \n",
        "        self.id = id\n",
        "        self.latitude = latitude\n",
        "        self.longitude = longitude\n",
        "\n",
        "    def distance_to(self, second_node):\n",
        "        '''Haversine formula for geodesic distance\n",
        "        a = sin²(Δφ/2) + cos φ1 ⋅ cos φ2 ⋅ sin²(Δλ/2)\n",
        "        c = 2 ⋅ atan2( √a, √(1−a) )\n",
        "        d = (Earth Radius) ⋅ c\n",
        "        '''\n",
        "        R = 6371e3 #m\n",
        "        lat1 = self.latitude * np.pi/180; #rad\n",
        "        lat2 = second_node.latitude * np.pi/180; #rad\n",
        "        delta_lat = (second_node.latitude - self.latitude) * np.pi/180;\n",
        "        delta_long = (self.longitude - second_node.longitude) * np.pi/180;\n",
        "        a = (np.sin(delta_lat/2))**2 + np.cos(lat1) * np.cos(lat2) * np.sin(delta_long/2) * np.sin(delta_long/2)\n",
        "        c = 2 * np.arctan2(a**0.5, (1-a)**0.5)\n",
        "        d = R * c #m\n",
        "        return d\n",
        "\n",
        "class KNN: \n",
        "    def __init__(self, weather_stations, pm_stations, radius):\n",
        "        self.weather_stations = weather_stations\n",
        "        self.pm_stations = pm_stations\n",
        "        self.radius = radius\n",
        "\n",
        "    def get_neighbours(self, pm_station):\n",
        "        nearest_weather_stations = list()\n",
        "        for ws in self.weather_stations:\n",
        "            dist = pm_station.distance_to(ws)\n",
        "            if dist <= self.radius: \n",
        "                nearest_weather_stations.append({'id':ws.id, 'dist':dist})\n",
        "        return nearest_weather_stations\n",
        "    \n",
        "    def find_corresponding_weather_stations(self, prune_val = None):\n",
        "        pm_station_neighbours = {}\n",
        "        for pms in self.pm_stations: \n",
        "            nearest_weather_stations = self.get_neighbours(pms)\n",
        "            if prune_val != None: \n",
        "                nearest_weather_stations.sort(key=lambda dic: dic['dist'])\n",
        "                nearest_weather_stations = nearest_weather_stations[:prune_val]\n",
        "            pm_station_neighbours[pms.id] = nearest_weather_stations\n",
        "\n",
        "            distances = [nws['dist'] for nws in nearest_weather_stations]\n",
        "            distance_weights = [float(i)/sum(distances) for i in distances]\n",
        "            for i,nws in enumerate(nearest_weather_stations):\n",
        "                nws['weight'] = distance_weights[i]\n",
        "        return pm_station_neighbours\n",
        "\n",
        "\n",
        "            \n",
        "\n",
        "\n",
        "\n",
        "    \n",
        "\n"
      ]
    },
    {
      "cell_type": "code",
      "source": [
        "#test with random latitude longitude\n",
        "def randlatlon1():\n",
        "    pi = math.pi\n",
        "    cf = 180.0 / pi  # radians to degrees Correction Factor\n",
        "\n",
        "    # get a random Gaussian 3D vector:\n",
        "    gx = random.gauss(0.0, 1.0)\n",
        "    gy = random.gauss(0.0, 1.0)\n",
        "    gz = random.gauss(0.0, 1.0)\n",
        "\n",
        "    # normalize to an equidistributed (x,y,z) point on the unit sphere:\n",
        "    norm2 = gx*gx + gy*gy + gz*gz\n",
        "    norm1 = 1.0 / math.sqrt(norm2)\n",
        "    x = gx * norm1\n",
        "    y = gy * norm1\n",
        "    z = gz * norm1\n",
        "\n",
        "    radLat = math.asin(z)      # latitude  in radians\n",
        "    radLon = math.atan2(y,x)   # longitude in radians\n",
        "\n",
        "    return (round(cf*radLat, 5), round(cf*radLon, 5))"
      ],
      "metadata": {
        "id": "fYMvAVhe9cjt"
      },
      "execution_count": 68,
      "outputs": []
    },
    {
      "cell_type": "code",
      "source": [
        "weather_stations = []\n",
        "for _ in range(100): \n",
        "    info = randlatlon1()\n",
        "    id = uuid.uuid4().hex[:6].upper()\n",
        "    node = Node(id = id, latitude = info[0], longitude = info[1])\n",
        "    weather_stations.append(node)\n",
        "\n",
        "pm_stations = []\n",
        "for _ in range(10): \n",
        "    info = randlatlon1()\n",
        "    id = uuid.uuid4().hex[:6].upper()\n",
        "    node = Node(id = id, latitude = info[0], longitude = info[1])\n",
        "    pm_stations.append(node)\n"
      ],
      "metadata": {
        "id": "Am9NsAUzAhjT"
      },
      "execution_count": 73,
      "outputs": []
    },
    {
      "cell_type": "code",
      "source": [
        "knn = KNN(weather_stations, pm_stations, radius = 10e6)"
      ],
      "metadata": {
        "id": "hcPWkPipFYRg"
      },
      "execution_count": 74,
      "outputs": []
    },
    {
      "cell_type": "code",
      "source": [
        "pm_station_neighbours = knn.find_corresponding_weather_stations(prune_val = 5)"
      ],
      "metadata": {
        "id": "L6lnji3qG41V"
      },
      "execution_count": 75,
      "outputs": []
    },
    {
      "cell_type": "code",
      "source": [
        "pm_station_neighbours"
      ],
      "metadata": {
        "colab": {
          "base_uri": "https://localhost:8080/"
        },
        "id": "cvHBWTl0HW5o",
        "outputId": "c1c6e992-a612-4476-acd6-0e71c95bcde1"
      },
      "execution_count": 76,
      "outputs": [
        {
          "output_type": "execute_result",
          "data": {
            "text/plain": [
              "{'0DA37A': [{'dist': 1942151.2817053495,\n",
              "   'id': '48519E',\n",
              "   'weight': 0.1648095658318121},\n",
              "  {'dist': 2051892.9389842923, 'id': '543B21', 'weight': 0.17412216421700322},\n",
              "  {'dist': 2486772.2481413884, 'id': '639318', 'weight': 0.21102571071544382},\n",
              "  {'dist': 2650552.6672399673, 'id': '14EA20', 'weight': 0.22492399969923893},\n",
              "  {'dist': 2652845.402102786, 'id': 'DC64F8', 'weight': 0.2251185595365019}],\n",
              " '11594D': [{'dist': 573695.9764104239,\n",
              "   'id': '3D66E5',\n",
              "   'weight': 0.06748703806064811},\n",
              "  {'dist': 970827.7472335892, 'id': '4AEB2C', 'weight': 0.11420384981228195},\n",
              "  {'dist': 1883088.0871693098, 'id': '62AEF5', 'weight': 0.2215180908283588},\n",
              "  {'dist': 2486423.553448188, 'id': 'ED3776', 'weight': 0.29249178639245704},\n",
              "  {'dist': 2586796.6902563423, 'id': '09C398', 'weight': 0.304299234906254}],\n",
              " '29F915': [{'dist': 1971119.579505225,\n",
              "   'id': '5E1E23',\n",
              "   'weight': 0.15092261368278817},\n",
              "  {'dist': 2188789.7619781066, 'id': 'FD75D4', 'weight': 0.16758895559384707},\n",
              "  {'dist': 2579095.8967223787, 'id': '53FDE1', 'weight': 0.19747350577766604},\n",
              "  {'dist': 2904517.7970174802, 'id': '21C525', 'weight': 0.22239006804654904},\n",
              "  {'dist': 3416942.4007131313, 'id': '88DF05', 'weight': 0.26162485689914977}],\n",
              " '2E8258': [{'dist': 982961.0184546119,\n",
              "   'id': '36475B',\n",
              "   'weight': 0.16795732576722533},\n",
              "  {'dist': 1043369.5225366986, 'id': 'B3EA77', 'weight': 0.178279251671446},\n",
              "  {'dist': 1114823.5536697705, 'id': '53FDE1', 'weight': 0.19048851303489953},\n",
              "  {'dist': 1247421.6196553702, 'id': '21C525', 'weight': 0.2131453795298304},\n",
              "  {'dist': 1463869.3276873294, 'id': 'FD75D4', 'weight': 0.25012952999659854}],\n",
              " '378D1A': [{'dist': 2080346.9526867052,\n",
              "   'id': '582657',\n",
              "   'weight': 0.16427242463722896},\n",
              "  {'dist': 2404173.1786305713, 'id': 'F93A2F', 'weight': 0.18984302440099501},\n",
              "  {'dist': 2566025.2390368315, 'id': '0DE6B7', 'weight': 0.20262350333078613},\n",
              "  {'dist': 2800290.0589575106, 'id': '9FE366', 'weight': 0.22112198019584645},\n",
              "  {'dist': 2813170.457743617, 'id': '37B750', 'weight': 0.22213906743514347}],\n",
              " '388C44': [{'dist': 831095.5505298545,\n",
              "   'id': '81C087',\n",
              "   'weight': 0.09742500195881709},\n",
              "  {'dist': 1300177.2540860134, 'id': '09C398', 'weight': 0.15241300647727277},\n",
              "  {'dist': 1809606.3569646233, 'id': 'FFB476', 'weight': 0.2121307264364102},\n",
              "  {'dist': 2291203.458711522, 'id': '14EA20', 'weight': 0.26858584588824613},\n",
              "  {'dist': 2298536.151275168, 'id': 'F404FB', 'weight': 0.2694454192392539}],\n",
              " '4D4BC1': [{'dist': 668578.7039405283,\n",
              "   'id': '0DE6B7',\n",
              "   'weight': 0.06342749615978974},\n",
              "  {'dist': 1391144.444199608, 'id': 'F93A2F', 'weight': 0.1319766967929513},\n",
              "  {'dist': 2505515.629529683, 'id': 'D89141', 'weight': 0.23769614861143307},\n",
              "  {'dist': 2881239.737101835, 'id': '6E61AD', 'weight': 0.27334077690981357},\n",
              "  {'dist': 3094355.4203439816, 'id': '4DF24F', 'weight': 0.2935588815260124}],\n",
              " '62D1A9': [{'dist': 1327719.706316256,\n",
              "   'id': '62AAE8',\n",
              "   'weight': 0.11943372735708399},\n",
              "  {'dist': 1947363.8202784888, 'id': 'B677BB', 'weight': 0.17517320746973303},\n",
              "  {'dist': 2310683.773239769, 'id': '3E67A9', 'weight': 0.20785529842532982},\n",
              "  {'dist': 2734808.012822312, 'id': '543B21', 'weight': 0.24600697950293693},\n",
              "  {'dist': 2796215.025357395, 'id': '639318', 'weight': 0.2515307872449162}],\n",
              " 'E863D1': [{'dist': 211556.47645698767,\n",
              "   'id': '49779C',\n",
              "   'weight': 0.019951106958886133},\n",
              "  {'dist': 924487.3296331558, 'id': '46A2F7', 'weight': 0.08718497256403371},\n",
              "  {'dist': 2622263.0719976258, 'id': '1C7AEC', 'weight': 0.247295908402023},\n",
              "  {'dist': 3312211.598896267, 'id': 'B2FE67', 'weight': 0.3123623960218401},\n",
              "  {'dist': 3533227.816038635, 'id': '88DF05', 'weight': 0.33320561605321697}],\n",
              " 'FCBE57': [{'dist': 789548.6987433456,\n",
              "   'id': '1C7AEC',\n",
              "   'weight': 0.0792316069969215},\n",
              "  {'dist': 1003241.6084256419, 'id': '46A2F7', 'weight': 0.10067579741218566},\n",
              "  {'dist': 1757299.654033156, 'id': '49779C', 'weight': 0.17634589960794944},\n",
              "  {'dist': 3170822.9794262857, 'id': '76B948', 'weight': 0.3181936726164841},\n",
              "  {'dist': 3244159.44234145, 'id': 'B2FE67', 'weight': 0.32555302336645914}]}"
            ]
          },
          "metadata": {},
          "execution_count": 76
        }
      ]
    },
    {
      "cell_type": "code",
      "source": [
        ""
      ],
      "metadata": {
        "id": "D4WgUoNrH0zo"
      },
      "execution_count": null,
      "outputs": []
    }
  ]
}