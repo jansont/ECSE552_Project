{
 "cells": [
  {
   "cell_type": "code",
   "execution_count": 13,
   "metadata": {},
   "outputs": [
    {
     "name": "stdout",
     "output_type": "stream",
     "text": [
      "Prcessing tp\n",
      "Prcessing dh\n",
      "Prcessing la\n"
     ]
    }
   ],
   "source": [
    "import requests\n",
    "\n",
    "\n",
    "# Page 1 of 7 (63 results, 10 per page)\n",
    "tapei = 'https://www.ncei.noaa.gov/access/services/search/v1/data?bbox=25.404,120.010,21.719,122.537&startDate=2017-01-01T00:00:00&endDate=2021-12-31T23:59:59&dataset=global-hourly&limit=10000'\n",
    "\n",
    "# Page 1 of 3 (30 results, 10 per page)\n",
    "delhi = 'https://www.ncei.noaa.gov/access/services/search/v1/data?bbox=29.124,76.516,27.813,78.099&startDate=2017-01-01T00:00:00&endDate=2021-12-31T23:59:59&dataset=global-hourly&limit=10000'\n",
    "\n",
    "# Page 1 of 17 (168 results, 10 per page)\n",
    "los_angeles = 'https://www.ncei.noaa.gov/access/services/search/v1/data?bbox=34.581,-119.202,33.281,-116.295&startDate=2017-01-01T00:00:00&endDate=2021-12-31T23:59:59&dataset=global-hourly&limit=10000'\n",
    "base_path = \"https://www.ncei.noaa.gov\"\n",
    "\n",
    "locations = [(tapei, \"tp\"), (delhi, \"dh\"), (los_angeles, \"la\")]\n",
    "for location, folder in locations:\n",
    "    r = requests.get(location).json()\n",
    "    print(f\"Prcessing {folder}\")\n",
    "    for result in r['results']:\n",
    "        file_path = base_path+result['filePath']\n",
    "        file = requests.get(file_path, allow_redirects=True).content\n",
    "        file_name = f\"{folder}/\"+\"-\".join(result['filePath'].split(\"/\")[-2:])\n",
    "        f = open(file_name, \"w\")\n",
    "        f.write(str(file, 'utf-8'))\n",
    "        f.close()\n"
   ]
  },
  {
   "cell_type": "code",
   "execution_count": 6,
   "metadata": {},
   "outputs": [],
   "source": [
    "from pathlib import Path\n",
    "import pandas as pd\n",
    "\n",
    "p = Path(\"tp\").glob(\"*.csv\")\n",
    "files = [x for x in p if x.is_file()]\n",
    "dfs = [pd.read_csv(i) for i in files]\n",
    "\n",
    "df = pd.concat(dfs)\n",
    "df.to_csv(\"tp_2017_2021.csv\", index=False)"
   ]
  },
  {
   "cell_type": "markdown",
   "metadata": {},
   "source": [
    "match a weather station to the nearest pm station"
   ]
  },
  {
   "cell_type": "code",
   "execution_count": 2,
   "metadata": {},
   "outputs": [
    {
     "name": "stderr",
     "output_type": "stream",
     "text": [
      "/tmp/ipykernel_2356/4196525566.py:4: DtypeWarning: Columns (30,31,32,35,37,38,39,40,41,42,43) have mixed types.Specify dtype option on import or set low_memory=False.\n",
      "  dfs = [pd.read_csv(i).drop_duplicates('STATION') for i in files]\n",
      "/tmp/ipykernel_2356/4196525566.py:4: DtypeWarning: Columns (16,20,25,26,28,29,30,31,32,33,34,35) have mixed types.Specify dtype option on import or set low_memory=False.\n",
      "  dfs = [pd.read_csv(i).drop_duplicates('STATION') for i in files]\n",
      "/tmp/ipykernel_2356/4196525566.py:4: DtypeWarning: Columns (0,2,8,16,17,18,19,20,21,22,23,24,25,26,27,28,29,30,31,32,33,34,35,36,37,38,39,40,41,42,43,44,45,46,47,48,49,50,51,52,53,54,55,56,57,58,59,60,61,62,63,64,65,66,67,68,69,70,71,72,73,74,75,76,77,78,79,80,81,82,83,84,85,86,87,88,89,90,91,92,93,94,95,96,97,98,99,100,101,102,103,104,105,106,107,108,109,110,111,112,113,114,115,116,117,118,119,120,121,122,123,124,125,126,127,128,129,130,131,132) have mixed types.Specify dtype option on import or set low_memory=False.\n",
      "  dfs = [pd.read_csv(i).drop_duplicates('STATION') for i in files]\n"
     ]
    }
   ],
   "source": [
    "import pandas as pd\n",
    "metadata = pd.read_csv(\"/mnt/d/airdata/metadata_updated.csv\")\n",
    "\n",
    "files = [\"/mnt/d/airdata/noaa_redownload/dh_2017_2021.csv\", \"/mnt/d/airdata/noaa_redownload/tp_2017_2021.csv\", \"/mnt/d/airdata/noaa_redownload/la_2017_2021.csv\"]\n",
    "dfs = [pd.read_csv(i).drop_duplicates('STATION') for i in files]\n",
    "\n",
    "weather_df = pd.concat(dfs)"
   ]
  },
  {
   "cell_type": "code",
   "execution_count": 3,
   "metadata": {},
   "outputs": [],
   "source": [
    "def find_nearest(row, station=None):\n",
    "    long = row['LONGITUDE']\n",
    "    lat = row['LATITUDE']\n",
    "    metadata['dist'] = ((abs(metadata['Latitudes']) - abs(lat))**2 + (abs(metadata['Longitudes']) -abs(long)) **2)**0.5\n",
    "    smallest_row = metadata[metadata['dist'] == metadata['dist'].min()]\n",
    "    if station:\n",
    "        return smallest_row['dist'].values[0]\n",
    "    return smallest_row['grid_id'].values[0]\n",
    "\n",
    "weather_df['grid_id'] = weather_df.apply(lambda x: find_nearest(x), axis=1)\n",
    "weather_df['station_distance'] = weather_df.apply(lambda x: find_nearest(x, station=True), axis=1)"
   ]
  },
  {
   "cell_type": "code",
   "execution_count": 4,
   "metadata": {},
   "outputs": [],
   "source": [
    "weather_df = weather_df[['STATION', 'grid_id', 'station_distance']]"
   ]
  },
  {
   "cell_type": "code",
   "execution_count": 16,
   "metadata": {},
   "outputs": [],
   "source": [
    "metadata_with_station = weather_df.sort_values(['grid_id', 'station_distance']).drop_duplicates('grid_id')"
   ]
  },
  {
   "cell_type": "code",
   "execution_count": 21,
   "metadata": {},
   "outputs": [],
   "source": [
    "metadata.merge(metadata_with_station, on='grid_id').to_csv('metadata_with_station.csv', index=False)"
   ]
  },
  {
   "cell_type": "markdown",
   "metadata": {},
   "source": [
    "keep only columns that have the appropriate id"
   ]
  },
  {
   "cell_type": "code",
   "execution_count": 1,
   "metadata": {},
   "outputs": [],
   "source": [
    "import pandas as pd\n",
    "metadata = pd.read_csv(\"/mnt/d/airdata/metadata_updated.csv\")\n",
    "metadata[metadata['location'] == 'Los Angeles (SoCAB)'].to_csv('la_metadata.csv', index=False)"
   ]
  },
  {
   "cell_type": "code",
   "execution_count": 2,
   "metadata": {},
   "outputs": [],
   "source": [
    "la_metadata = metadata[metadata['location'] == 'Los Angeles (SoCAB)']"
   ]
  },
  {
   "cell_type": "code",
   "execution_count": 3,
   "metadata": {},
   "outputs": [
    {
     "name": "stderr",
     "output_type": "stream",
     "text": [
      "/home/ding/.local/lib/python3.8/site-packages/IPython/core/interactiveshell.py:3251: DtypeWarning: Columns (0,2,8,16,17,18,19,20,21,22,23,24,25,26,27,28,29,30,31,32,33,34,35,36,37,38,39,40,41,42,43,44,45,46,47,48,49,50,51,52,53,54,55,56,57,58,59,60,61,62,63,64,65,66,67,68,69,70,71,72,73,74,75,76,77,78,79,80,81,82,83,84,85,86,87,88,89,90,91,92,93,94,95,96,97,98,99,100,101,102,103,104,105,106,107,108,109,110,111,112,113,114,115,116,117,118,119,120,121,122,123,124,125,126,127,128,129,130,131,132) have mixed types.Specify dtype option on import or set low_memory=False.\n",
      "  exec(code_obj, self.user_global_ns, self.user_ns)\n"
     ]
    }
   ],
   "source": [
    "la_df = pd.read_csv('la_2017_2021.csv').drop_duplicates('STATION')"
   ]
  },
  {
   "cell_type": "code",
   "execution_count": 4,
   "metadata": {},
   "outputs": [],
   "source": [
    "def find_nearest(row, metadata, station=None):\n",
    "    long = row['LONGITUDE']\n",
    "    lat = row['LATITUDE']\n",
    "    metadata['dist'] = ((abs(metadata['Latitudes']) - abs(lat))**2 + (abs(metadata['Longitudes']) -abs(long)) **2)**0.5\n",
    "    smallest_row = metadata[metadata['dist'] == metadata['dist'].min()]\n",
    "    if station:\n",
    "        return smallest_row['dist'].values[0]\n",
    "    return smallest_row['grid_id'].values[0]\n",
    "\n",
    "la_df['grid_id'] = la_df.apply(lambda x: find_nearest(x, la_metadata), axis=1)\n",
    "la_df['station_distance'] = la_df.apply(lambda x: find_nearest(x,la_metadata, station=True), axis=1)\n"
   ]
  },
  {
   "cell_type": "code",
   "execution_count": 9,
   "metadata": {},
   "outputs": [],
   "source": [
    "la_metadata = la_df[['STATION', 'grid_id', 'station_distance']].sort_values(['grid_id', 'station_distance']).drop_duplicates('grid_id')\n",
    "la_metadata.to_csv('la_metadata.csv', index=False)"
   ]
  },
  {
   "cell_type": "code",
   "execution_count": 13,
   "metadata": {},
   "outputs": [],
   "source": [
    "la_metadata.reset_index(drop=True, inplace=True)"
   ]
  },
  {
   "cell_type": "code",
   "execution_count": 16,
   "metadata": {},
   "outputs": [
    {
     "name": "stderr",
     "output_type": "stream",
     "text": [
      "/home/ding/.local/lib/python3.8/site-packages/IPython/core/interactiveshell.py:3251: DtypeWarning: Columns (0,2,8,16,17,18,19,20,21,22,23,24,25,26,27,28,29,30,31,32,33,34,35,36,37,38,39,40,41,42,43,44,45,46,47,48,49,50,51,52,53,54,55,56,57,58,59,60,61,62,63,64,65,66,67,68,69,70,71,72,73,74,75,76,77,78,79,80,81,82,83,84,85,86,87,88,89,90,91,92,93,94,95,96,97,98,99,100,101,102,103,104,105,106,107,108,109,110,111,112,113,114,115,116,117,118,119,120,121,122,123,124,125,126,127,128,129,130,131,132) have mixed types.Specify dtype option on import or set low_memory=False.\n",
      "  exec(code_obj, self.user_global_ns, self.user_ns)\n"
     ]
    }
   ],
   "source": [
    "la_df = pd.read_csv('la_2017_2021.csv')"
   ]
  },
  {
   "cell_type": "code",
   "execution_count": 18,
   "metadata": {},
   "outputs": [],
   "source": [
    "la_df_reduced_stations = la_df[la_df['STATION'].isin(la_metadata['STATION'])]"
   ]
  },
  {
   "cell_type": "code",
   "execution_count": 19,
   "metadata": {},
   "outputs": [],
   "source": [
    "la_df_reduced_stations.to_csv('la_2017_2021_unique_station.csv', index=False)"
   ]
  },
  {
   "cell_type": "code",
   "execution_count": null,
   "metadata": {},
   "outputs": [],
   "source": []
  }
 ],
 "metadata": {
  "interpreter": {
   "hash": "e7370f93d1d0cde622a1f8e1c04877d8463912d04d973331ad4851f04de6915a"
  },
  "kernelspec": {
   "display_name": "Python 3.8.10 64-bit",
   "language": "python",
   "name": "python3"
  },
  "language_info": {
   "codemirror_mode": {
    "name": "ipython",
    "version": 3
   },
   "file_extension": ".py",
   "mimetype": "text/x-python",
   "name": "python",
   "nbconvert_exporter": "python",
   "pygments_lexer": "ipython3",
   "version": "3.8.10"
  },
  "orig_nbformat": 4
 },
 "nbformat": 4,
 "nbformat_minor": 2
}
