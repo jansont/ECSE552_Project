{
 "cells": [
  {
   "cell_type": "code",
   "execution_count": null,
   "metadata": {},
   "outputs": [],
   "source": [
    "import pandas as pd\n",
    "import matplotlib.pyplot as plt\n",
    "import numpy as np\n",
    "import os"
   ]
  },
  {
   "cell_type": "code",
   "execution_count": null,
   "metadata": {},
   "outputs": [],
   "source": [
    "training = pd.read_csv(os.path.join(os.getcwd(), 'TrainingResults1.csv'))\n",
    "validation = pd.read_csv(os.path.join(os.getcwd(), 'ValidationResults1.csv'))"
   ]
  },
  {
   "cell_type": "code",
   "execution_count": null,
   "metadata": {},
   "outputs": [],
   "source": [
    "def running_mean(x, N):\n",
    "    cumsum = np.cumsum(np.insert(x, 0, 0)) \n",
    "    return (cumsum[N:] - cumsum[:-N]) / float(N)\n",
    "\n",
    "\n",
    "L = running_mean(np.array(training['Loss']), 100)\n",
    "L = L[:40]\n",
    "plt.plot([i for i in range(len(L))], L, label = 'Training')\n",
    "V = np.array(validation['Loss'].iloc[:40])\n",
    "\n",
    "plt.plot([i for i in range(len(V))], V, label = 'Validation')\n",
    "plt.legend()\n",
    "plt.ylabel('MAE Loss'), plt.xlabel('Epochs')\n",
    "plt.xlabel('Epoch')"
   ]
  },
  {
   "cell_type": "code",
   "execution_count": null,
   "metadata": {},
   "outputs": [],
   "source": [
    "def running_mean(x, N):\n",
    "    cumsum = np.cumsum(np.insert(x, 0, 0)) \n",
    "    return (cumsum[N:] - cumsum[:-N]) / float(N)\n",
    "\n",
    "\n",
    "L = running_mean(np.array(training['Loss']), 100)\n",
    "L = L[:40]\n",
    "plt.plot([i for i in range(len(L))], L, label = 'Training')\n",
    "V = np.array(validation['Loss'].iloc[:40])\n",
    "\n",
    "plt.plot([i for i in range(len(V))], V, label = 'Validation')\n",
    "plt.legend()\n",
    "plt.ylabel('MSE Loss'), plt.xlabel('Epochs')\n",
    "plt.xlabel('Epoch')"
   ]
  },
  {
   "cell_type": "code",
   "execution_count": null,
   "metadata": {},
   "outputs": [],
   "source": []
  },
  {
   "cell_type": "code",
   "execution_count": null,
   "metadata": {},
   "outputs": [],
   "source": []
  }
 ],
 "metadata": {
  "interpreter": {
   "hash": "aee8b7b246df8f9039afb4144a1f6fd8d2ca17a180786b69acc140d282b71a49"
  },
  "kernelspec": {
   "display_name": "Python 3.9.1 64-bit",
   "language": "python",
   "name": "python3"
  },
  "language_info": {
   "codemirror_mode": {
    "name": "ipython",
    "version": 3
   },
   "file_extension": ".py",
   "mimetype": "text/x-python",
   "name": "python",
   "nbconvert_exporter": "python",
   "pygments_lexer": "ipython3",
   "version": "3.9.0"
  },
  "orig_nbformat": 4
 },
 "nbformat": 4,
 "nbformat_minor": 2
}
